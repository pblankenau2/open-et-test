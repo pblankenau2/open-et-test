{
 "cells": [
  {
   "cell_type": "markdown",
   "metadata": {},
   "source": [
    "# EEFlux Single Image Example"
   ]
  },
  {
   "cell_type": "code",
   "execution_count": 1,
   "metadata": {},
   "outputs": [],
   "source": [
    "import ee\n",
    "from IPython.display import Image\n",
    "from importlib import reload  # Python 3 only\n",
    "# from imp import reload      # Python 2/3 via futures modules\n",
    "\n",
    "from eeflux import eeflux\n",
    "eeflux = reload(eeflux)\n",
    "\n",
    "ee.Initialize()\n",
    "\n",
    "ndvi_palette = ['#EFE7E1', '#003300']\n",
    "et_palette = [\n",
    "  'DEC29B', 'E6CDA1', 'EDD9A6', 'F5E4A9', 'FFF4AD', 'C3E683', '6BCC5C', \n",
    "  '3BB369', '20998F', '1C8691', '16678A', '114982', '0B2C7A']"
   ]
  },
  {
   "cell_type": "markdown",
   "metadata": {},
   "source": [
    "# Input Landsat 8 Image"
   ]
  },
  {
   "cell_type": "code",
   "execution_count": 2,
   "metadata": {},
   "outputs": [
    {
     "data": {
      "text/html": [
       "<img src=\"https://earthengine.googleapis.com/api/thumb?thumbid=7371f338ac6fabc261718f19933a1670&token=7bd9768160f66feb65834a158c9e87b8\"/>"
      ],
      "text/plain": [
       "<IPython.core.display.Image object>"
      ]
     },
     "execution_count": 2,
     "metadata": {},
     "output_type": "execute_result"
    }
   ],
   "source": [
    "# EEFlux currently operates on radiance images (not TOA)\n",
    "landsat_img = ee.Image('LANDSAT/LC08/C01/T1_RT/LC08_043033_20150805')\n",
    "Image(url=landsat_img.select([3, 2, 1]).getThumbURL({'min': 0.0, 'max': 20000}))"
   ]
  },
  {
   "cell_type": "code",
   "execution_count": 3,
   "metadata": {},
   "outputs": [],
   "source": [
    "eeflux_obj = eeflux.EEFlux(landsat_img)"
   ]
  },
  {
   "cell_type": "code",
   "execution_count": 4,
   "metadata": {},
   "outputs": [
    {
     "data": {
      "text/html": [
       "<img src=\"https://earthengine.googleapis.com/api/thumb?thumbid=ed8d0bf9110035d2a34f37ec1ef379f1&token=b2cf12aa1276baf6a2216e781427522f\"/>"
      ],
      "text/plain": [
       "<IPython.core.display.Image object>"
      ]
     },
     "execution_count": 4,
     "metadata": {},
     "output_type": "execute_result"
    }
   ],
   "source": [
    "# Show NDVI\n",
    "Image(url=eeflux_obj.ndvi.getThumbURL(\n",
    "    {'min': -0.1, 'max': 0.9, 'palette': ','.join(ndvi_palette)}))"
   ]
  },
  {
   "cell_type": "code",
   "execution_count": 8,
   "metadata": {},
   "outputs": [
    {
     "data": {
      "text/html": [
       "<img src=\"https://earthengine.googleapis.com/api/thumb?thumbid=cf9a539b47507f01eaf786af22ce8bd6&token=7642dcbc9fae9f092313e7d518bccb9a\"/>"
      ],
      "text/plain": [
       "<IPython.core.display.Image object>"
      ]
     },
     "execution_count": 8,
     "metadata": {},
     "output_type": "execute_result"
    }
   ],
   "source": [
    "# Compute ETrF for a single image\n",
    "etrf = eeflux_obj.etrf.select(['etrf'])\n",
    "Image(url=eeflux_obj.etrf.select(['etrf']).getThumbURL(\n",
    "    {'min': 0.0, 'max': 1.2, 'palette': ','.join(et_palette)}))"
   ]
  },
  {
   "cell_type": "code",
   "execution_count": null,
   "metadata": {},
   "outputs": [],
   "source": []
  }
 ],
 "metadata": {
  "kernelspec": {
   "display_name": "Python 3",
   "language": "python",
   "name": "python3"
  },
  "language_info": {
   "codemirror_mode": {
    "name": "ipython",
    "version": 3
   },
   "file_extension": ".py",
   "mimetype": "text/x-python",
   "name": "python",
   "nbconvert_exporter": "python",
   "pygments_lexer": "ipython3",
   "version": "3.6.3"
  }
 },
 "nbformat": 4,
 "nbformat_minor": 2
}
