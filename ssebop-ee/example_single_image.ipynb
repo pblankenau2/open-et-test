{
 "cells": [
  {
   "cell_type": "markdown",
   "metadata": {},
   "source": [
    "# SSEBop Single Image Example"
   ]
  },
  {
   "cell_type": "code",
   "execution_count": 1,
   "metadata": {},
   "outputs": [],
   "source": [
    "import ee\n",
    "from IPython.display import Image\n",
    "\n",
    "from ssebop import ssebop\n",
    "from ssebop import landsat\n",
    "ssebop = reload(ssebop)\n",
    "landsat = reload(landsat)\n",
    "\n",
    "ee.Initialize()\n",
    "\n",
    "ndvi_palette = ['#EFE7E1', '#003300']\n",
    "# ta_palette = ['#ff0000', '#ffff00', '#00ffff', '#0000ff']\n",
    "et_palette = [\n",
    "  'DEC29B', 'E6CDA1', 'EDD9A6', 'F5E4A9', 'FFF4AD', 'C3E683', '6BCC5C', \n",
    "  '3BB369', '20998F', '1C8691', '16678A', '114982', '0B2C7A']"
   ]
  },
  {
   "cell_type": "markdown",
   "metadata": {},
   "source": [
    "#### Prep the image"
   ]
  },
  {
   "cell_type": "code",
   "execution_count": 2,
   "metadata": {},
   "outputs": [],
   "source": [
    "# scene_id = 'LC08_038038_20150717'\n",
    "landsat_img = ee.Image('LANDSAT/LC08/C01/T1_RT_TOA/LC08_043033_20150602')\n",
    "input_img = ee.Image(landsat.prep_func(landsat_img))"
   ]
  },
  {
   "cell_type": "markdown",
   "metadata": {},
   "source": [
    "#### Show NDVI"
   ]
  },
  {
   "cell_type": "code",
   "execution_count": 3,
   "metadata": {},
   "outputs": [
    {
     "ename": "EEException",
     "evalue": "Image.select: Pattern 'thermal' did not match any bands.",
     "output_type": "error",
     "traceback": [
      "\u001b[1;31m---------------------------------------------------------------------------\u001b[0m",
      "\u001b[1;31mEEException\u001b[0m                               Traceback (most recent call last)",
      "\u001b[1;32m<ipython-input-3-2ebf29815ed8>\u001b[0m in \u001b[0;36m<module>\u001b[1;34m()\u001b[0m\n\u001b[0;32m      1\u001b[0m Image(url=input_img.select(['ndvi']).getThumbURL({\n\u001b[1;32m----> 2\u001b[1;33m     'min': -0.1, 'max': 0.9, 'palette': ','.join(ndvi_palette)}))\n\u001b[0m",
      "\u001b[1;32mC:\\Miniconda3\\envs\\python2\\lib\\site-packages\\ee\\image.pyc\u001b[0m in \u001b[0;36mgetThumbURL\u001b[1;34m(self, params)\u001b[0m\n\u001b[0;32m    195\u001b[0m         raise ee_exception.EEException(\n\u001b[0;32m    196\u001b[0m             'The region parameter must be an array or a GeoJSON object.')\n\u001b[1;32m--> 197\u001b[1;33m     \u001b[1;32mreturn\u001b[0m \u001b[0mdata\u001b[0m\u001b[1;33m.\u001b[0m\u001b[0mmakeThumbUrl\u001b[0m\u001b[1;33m(\u001b[0m\u001b[0mdata\u001b[0m\u001b[1;33m.\u001b[0m\u001b[0mgetThumbId\u001b[0m\u001b[1;33m(\u001b[0m\u001b[0mrequest\u001b[0m\u001b[1;33m)\u001b[0m\u001b[1;33m)\u001b[0m\u001b[1;33m\u001b[0m\u001b[0m\n\u001b[0m\u001b[0;32m    198\u001b[0m \u001b[1;33m\u001b[0m\u001b[0m\n\u001b[0;32m    199\u001b[0m   \u001b[1;31m# Deprecated spellings to match the JS library.\u001b[0m\u001b[1;33m\u001b[0m\u001b[1;33m\u001b[0m\u001b[0m\n",
      "\u001b[1;32mC:\\Miniconda3\\envs\\python2\\lib\\site-packages\\ee\\data.pyc\u001b[0m in \u001b[0;36mgetThumbId\u001b[1;34m(params)\u001b[0m\n\u001b[0;32m    304\u001b[0m   \u001b[1;32mif\u001b[0m \u001b[1;34m'size'\u001b[0m \u001b[1;32min\u001b[0m \u001b[0mrequest\u001b[0m \u001b[1;32mand\u001b[0m \u001b[0misinstance\u001b[0m\u001b[1;33m(\u001b[0m\u001b[0mrequest\u001b[0m\u001b[1;33m[\u001b[0m\u001b[1;34m'size'\u001b[0m\u001b[1;33m]\u001b[0m\u001b[1;33m,\u001b[0m \u001b[1;33m(\u001b[0m\u001b[0mlist\u001b[0m\u001b[1;33m,\u001b[0m \u001b[0mtuple\u001b[0m\u001b[1;33m)\u001b[0m\u001b[1;33m)\u001b[0m\u001b[1;33m:\u001b[0m\u001b[1;33m\u001b[0m\u001b[0m\n\u001b[0;32m    305\u001b[0m     \u001b[0mrequest\u001b[0m\u001b[1;33m[\u001b[0m\u001b[1;34m'size'\u001b[0m\u001b[1;33m]\u001b[0m \u001b[1;33m=\u001b[0m \u001b[1;34m'x'\u001b[0m\u001b[1;33m.\u001b[0m\u001b[0mjoin\u001b[0m\u001b[1;33m(\u001b[0m\u001b[0mmap\u001b[0m\u001b[1;33m(\u001b[0m\u001b[0mstr\u001b[0m\u001b[1;33m,\u001b[0m \u001b[0mrequest\u001b[0m\u001b[1;33m[\u001b[0m\u001b[1;34m'size'\u001b[0m\u001b[1;33m]\u001b[0m\u001b[1;33m)\u001b[0m\u001b[1;33m)\u001b[0m\u001b[1;33m\u001b[0m\u001b[0m\n\u001b[1;32m--> 306\u001b[1;33m   \u001b[1;32mreturn\u001b[0m \u001b[0msend_\u001b[0m\u001b[1;33m(\u001b[0m\u001b[1;34m'/thumb'\u001b[0m\u001b[1;33m,\u001b[0m \u001b[0mrequest\u001b[0m\u001b[1;33m)\u001b[0m\u001b[1;33m\u001b[0m\u001b[0m\n\u001b[0m\u001b[0;32m    307\u001b[0m \u001b[1;33m\u001b[0m\u001b[0m\n\u001b[0;32m    308\u001b[0m \u001b[1;33m\u001b[0m\u001b[0m\n",
      "\u001b[1;32mC:\\Miniconda3\\envs\\python2\\lib\\site-packages\\ee\\data.pyc\u001b[0m in \u001b[0;36msend_\u001b[1;34m(path, params, opt_method, opt_raw)\u001b[0m\n\u001b[0;32m    807\u001b[0m       \u001b[1;32mraise\u001b[0m \u001b[0mee_exception\u001b[0m\u001b[1;33m.\u001b[0m\u001b[0mEEException\u001b[0m\u001b[1;33m(\u001b[0m\u001b[1;34m'Invalid JSON: %s'\u001b[0m \u001b[1;33m%\u001b[0m \u001b[0mcontent\u001b[0m\u001b[1;33m)\u001b[0m\u001b[1;33m\u001b[0m\u001b[0m\n\u001b[0;32m    808\u001b[0m     \u001b[1;32mif\u001b[0m \u001b[1;34m'error'\u001b[0m \u001b[1;32min\u001b[0m \u001b[0mjson_content\u001b[0m\u001b[1;33m:\u001b[0m\u001b[1;33m\u001b[0m\u001b[0m\n\u001b[1;32m--> 809\u001b[1;33m       \u001b[1;32mraise\u001b[0m \u001b[0mee_exception\u001b[0m\u001b[1;33m.\u001b[0m\u001b[0mEEException\u001b[0m\u001b[1;33m(\u001b[0m\u001b[0mjson_content\u001b[0m\u001b[1;33m[\u001b[0m\u001b[1;34m'error'\u001b[0m\u001b[1;33m]\u001b[0m\u001b[1;33m[\u001b[0m\u001b[1;34m'message'\u001b[0m\u001b[1;33m]\u001b[0m\u001b[1;33m)\u001b[0m\u001b[1;33m\u001b[0m\u001b[0m\n\u001b[0m\u001b[0;32m    810\u001b[0m     \u001b[1;32mif\u001b[0m \u001b[1;34m'data'\u001b[0m \u001b[1;32mnot\u001b[0m \u001b[1;32min\u001b[0m \u001b[0mcontent\u001b[0m\u001b[1;33m:\u001b[0m\u001b[1;33m\u001b[0m\u001b[0m\n\u001b[0;32m    811\u001b[0m       \u001b[1;32mraise\u001b[0m \u001b[0mee_exception\u001b[0m\u001b[1;33m.\u001b[0m\u001b[0mEEException\u001b[0m\u001b[1;33m(\u001b[0m\u001b[1;34m'Malformed response: '\u001b[0m \u001b[1;33m+\u001b[0m \u001b[0mstr\u001b[0m\u001b[1;33m(\u001b[0m\u001b[0mcontent\u001b[0m\u001b[1;33m)\u001b[0m\u001b[1;33m)\u001b[0m\u001b[1;33m\u001b[0m\u001b[0m\n",
      "\u001b[1;31mEEException\u001b[0m: Image.select: Pattern 'thermal' did not match any bands."
     ]
    }
   ],
   "source": [
    "Image(url=input_img.select(['ndvi']).getThumbURL({\n",
    "    'min': -0.1, 'max': 0.9, 'palette': ','.join(ndvi_palette)}))"
   ]
  },
  {
   "cell_type": "markdown",
   "metadata": {},
   "source": [
    "#### Setup DisALEXI"
   ]
  },
  {
   "cell_type": "code",
   "execution_count": null,
   "metadata": {},
   "outputs": [],
   "source": [
    "ssebop_obj = ssebop.SSEBop(\n",
    "    input_img, \n",
    "    k_factor=1.25,\n",
    "    dt_source='ASSET',\n",
    "    elev_source='ASSET',\n",
    "    tcorr_source='SCENE',\n",
    "    tmax_source='DAYMET',\n",
    "    tdiff_buffer_value=10)"
   ]
  },
  {
   "cell_type": "markdown",
   "metadata": {},
   "source": [
    "#### Compute ET"
   ]
  },
  {
   "cell_type": "code",
   "execution_count": null,
   "metadata": {},
   "outputs": [],
   "source": [
    "et_img = ssebop_obj.compute_etf()\n",
    "Image(url=et_img.getThumbURL({\n",
    "    'min': 0, 'max': 1.25, 'palette': ','.join(et_palette)}))"
   ]
  }
 ],
 "metadata": {
  "kernelspec": {
   "display_name": "Python 2",
   "language": "python",
   "name": "python2"
  },
  "language_info": {
   "codemirror_mode": {
    "name": "ipython",
    "version": 2
   },
   "file_extension": ".py",
   "mimetype": "text/x-python",
   "name": "python",
   "nbconvert_exporter": "python",
   "pygments_lexer": "ipython2",
   "version": "2.7.14"
  }
 },
 "nbformat": 4,
 "nbformat_minor": 2
}
