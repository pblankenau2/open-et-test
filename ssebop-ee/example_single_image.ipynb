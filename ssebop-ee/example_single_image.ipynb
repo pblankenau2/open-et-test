{
 "cells": [
  {
   "cell_type": "markdown",
   "metadata": {},
   "source": [
    "# SSEBop Single Image Example"
   ]
  },
  {
   "cell_type": "code",
   "execution_count": 1,
   "metadata": {},
   "outputs": [],
   "source": [
    "import ee\n",
    "from IPython.display import Image\n",
    "\n",
    "from ssebop import ssebop\n",
    "from ssebop import landsat\n",
    "ssebop = reload(ssebop)\n",
    "landsat = reload(landsat)\n",
    "\n",
    "ee.Initialize()\n",
    "\n",
    "ndvi_palette = ['#EFE7E1', '#003300']\n",
    "# ta_palette = ['#ff0000', '#ffff00', '#00ffff', '#0000ff']\n",
    "et_palette = [\n",
    "  'DEC29B', 'E6CDA1', 'EDD9A6', 'F5E4A9', 'FFF4AD', 'C3E683', '6BCC5C', \n",
    "  '3BB369', '20998F', '1C8691', '16678A', '114982', '0B2C7A']"
   ]
  },
  {
   "cell_type": "markdown",
   "metadata": {},
   "source": [
    "#### Prep the image"
   ]
  },
  {
   "cell_type": "code",
   "execution_count": 2,
   "metadata": {},
   "outputs": [],
   "source": [
    "# scene_id = 'LC08_038038_20150717'\n",
    "landsat_img = ee.Image('LANDSAT/LC08/C01/T1_RT_TOA/LC08_043033_20150602')\n",
    "landsat_img = landsat_img \\\n",
    "    .select(\n",
    "        ['B2', 'B3', 'B4', 'B5', 'B6', 'B7', 'B10'],\n",
    "        ['blue', 'green', 'red', 'nir', 'swir1', 'swir2', 'thermal']) \\\n",
    "    .set('k1_constant', landsat_img.get('K1_CONSTANT_BAND_10')) \\\n",
    "    .set('k2_constant', landsat_img.get('K2_CONSTANT_BAND_10'))\n",
    "input_img = ee.Image(landsat.prep_func(landsat_img))"
   ]
  },
  {
   "cell_type": "markdown",
   "metadata": {},
   "source": [
    "#### Study area and region\n",
    "Needed for making Ta thumbnail match Landsat thumbnails"
   ]
  },
  {
   "cell_type": "code",
   "execution_count": 3,
   "metadata": {},
   "outputs": [],
   "source": [
    "image_region = landsat_img.geometry().bounds(1, 'EPSG:4326').coordinates().getInfo()\n",
    "image_crs = landsat_img.select([1]).projection().crs().getInfo()\n",
    "image_transform = landsat_img.select([1]).projection().getInfo()['transform']\n",
    "coarse_transform = image_transform[:]\n",
    "coarse_transform[0] = 240\n",
    "coarse_transform[4] = 240"
   ]
  },
  {
   "cell_type": "markdown",
   "metadata": {},
   "source": [
    "#### Show NDVI"
   ]
  },
  {
   "cell_type": "code",
   "execution_count": 4,
   "metadata": {},
   "outputs": [
    {
     "data": {
      "text/html": [
       "<img src=\"https://earthengine.googleapis.com/api/thumb?thumbid=d02f0e0f1e3c7106561e115a3264dcde&token=cf5c0ede87f473d435341e573f0ff057\"/>"
      ],
      "text/plain": [
       "<IPython.core.display.Image object>"
      ]
     },
     "execution_count": 4,
     "metadata": {},
     "output_type": "execute_result"
    }
   ],
   "source": [
    "Image(url=input_img.select(['ndvi']).getThumbURL({\n",
    "    'min': -0.1, 'max': 0.9, 'palette': ','.join(ndvi_palette)}))"
   ]
  },
  {
   "cell_type": "markdown",
   "metadata": {},
   "source": [
    "#### Setup DisALEXI"
   ]
  },
  {
   "cell_type": "code",
   "execution_count": 5,
   "metadata": {},
   "outputs": [],
   "source": [
    "ssebop_obj = ssebop.SSEBop(\n",
    "    input_img, \n",
    "    k_factor=1.25,\n",
    "    dt_source='ASSET',\n",
    "    elev_source='ASSET',\n",
    "    tcorr_source='SCENE',\n",
    "    tmax_source='DAYMET',\n",
    "    tdiff_buffer_value=10)"
   ]
  },
  {
   "cell_type": "markdown",
   "metadata": {},
   "source": [
    "#### Compute ET"
   ]
  },
  {
   "cell_type": "code",
   "execution_count": 6,
   "metadata": {},
   "outputs": [
    {
     "data": {
      "text/html": [
       "<img src=\"https://earthengine.googleapis.com/api/thumb?thumbid=68dd49220cf9506c7f6814d789d5df57&token=7db9c9c818a8344c0d2d6918ad9495d5\"/>"
      ],
      "text/plain": [
       "<IPython.core.display.Image object>"
      ]
     },
     "execution_count": 6,
     "metadata": {},
     "output_type": "execute_result"
    }
   ],
   "source": [
    "# Projecting to the Landsat image for display purposes\n",
    "et_img = ssebop_obj.compute_etf() \\\n",
    "    .reproject(crs=image_crs, crsTransform=coarse_transform)\n",
    "Image(url=et_img.getThumbURL({\n",
    "    'min': 0, 'max': 1.25, 'region': image_region, 'palette': ','.join(et_palette)}))"
   ]
  },
  {
   "cell_type": "code",
   "execution_count": null,
   "metadata": {},
   "outputs": [],
   "source": []
  }
 ],
 "metadata": {
  "kernelspec": {
   "display_name": "Python 2",
   "language": "python",
   "name": "python2"
  },
  "language_info": {
   "codemirror_mode": {
    "name": "ipython",
    "version": 2
   },
   "file_extension": ".py",
   "mimetype": "text/x-python",
   "name": "python",
   "nbconvert_exporter": "python",
   "pygments_lexer": "ipython2",
   "version": "2.7.14"
  }
 },
 "nbformat": 4,
 "nbformat_minor": 2
}
