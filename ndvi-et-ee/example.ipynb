{
 "cells": [
  {
   "cell_type": "markdown",
   "metadata": {},
   "source": [
    "# NDVI ET Single Image Example"
   ]
  },
  {
   "cell_type": "code",
   "execution_count": 1,
   "metadata": {},
   "outputs": [],
   "source": [
    "import ee\n",
    "from IPython.display import Image\n",
    "\n",
    "from ndvi_et import ndvi_et\n",
    "ndvi_et = reload(ndvi_et)\n",
    "\n",
    "ee.Initialize()\n",
    "\n",
    "ndvi_palette = ['#EFE7E1', '#003300']\n",
    "et_palette = [\n",
    "  'DEC29B', 'E6CDA1', 'EDD9A6', 'F5E4A9', 'FFF4AD', 'C3E683', '6BCC5C', \n",
    "  '3BB369', '20998F', '1C8691', '16678A', '114982', '0B2C7A']"
   ]
  },
  {
   "cell_type": "code",
   "execution_count": 2,
   "metadata": {},
   "outputs": [],
   "source": [
    "image_region = [[-120.5, 38.5], [-120.5, 39.5], [-119.5, 39.5], [-119.5, 38.5]]"
   ]
  },
  {
   "cell_type": "code",
   "execution_count": 3,
   "metadata": {},
   "outputs": [
    {
     "data": {
      "text/html": [
       "<img src=\"https://earthengine.googleapis.com/api/thumb?thumbid=9c98c709002e8cd3b80faad5833257f4&token=096fc1490d9f093bd52f00a9b97f760b\"/>"
      ],
      "text/plain": [
       "<IPython.core.display.Image object>"
      ]
     },
     "execution_count": 3,
     "metadata": {},
     "output_type": "execute_result"
    }
   ],
   "source": [
    "landsat_img = ee.Image('LANDSAT/LC08/C01/T1_RT_TOA/LC08_043033_20170709')\n",
    "Image(url=landsat_img.select([3, 2, 1]).getThumbURL({\n",
    "    'region': image_region, 'min': 0.0, 'max': 0.3}))\n",
    "\n",
    "# input_img = ee.Image(landsat.Landsat(landsat_img).prep())\n",
    "# Image(url=sentinel_img.select(['ndvi']).getThumbURL({\n",
    "#     'region': image_region, min': -0.1, 'max': 0.9, 'palette': ','.join(ndvi_palette)}))\n",
    "\n",
    "# etf_img = ndvi_et.NDVI_ET(sentinel_img, m=1.25, b=0.0).compute_etf()\n",
    "# Image(url=etf_img.getThumbURL({\n",
    "#     'region': image_region, min': 0, 'max': 1.25, 'palette': ','.join(etf_palette)}))"
   ]
  },
  {
   "cell_type": "code",
   "execution_count": 4,
   "metadata": {},
   "outputs": [
    {
     "data": {
      "text/html": [
       "<img src=\"https://earthengine.googleapis.com/api/thumb?thumbid=021524332e1ead2dd0fbd561ef806676&token=6d873b4e1ce5490404c22f76a6cfd9e7\"/>"
      ],
      "text/plain": [
       "<IPython.core.display.Image object>"
      ]
     },
     "execution_count": 4,
     "metadata": {},
     "output_type": "execute_result"
    }
   ],
   "source": [
    "# sentinel_img = ee.Image('COPERNICUS/S2/20170704T184919_20170704T185934_T10SGJ').divide(10000)\n",
    "sentinel_coll = ee.ImageCollection('COPERNICUS/S2') \\\n",
    "    .filterDate('2017-07-01', '2017-07-05') \\\n",
    "    .filterBounds(ee.Geometry.Point(-120, 39))\n",
    "sentinel_img = ee.Image(sentinel_coll.first())\n",
    "Image(url=sentinel_img.select([3, 2, 1]).getThumbURL({\n",
    "    'region': image_region, 'min': 0, 'max': 3000}))\n",
    "    \n",
    "# input_img = ee.Image(sentinel.Sentinel(sentinel_img).prep())\n",
    "# Image(url=sentinel_img.select(['ndvi']).getThumbURL({\n",
    "#     'region': image_region, min': -0.1, 'max': 0.9, 'palette': ','.join(ndvi_palette)}))\n",
    "    \n",
    "# etf_img = ndvi_et.NDVI_ET(sentinel_img, m=1.25, b=0.0).compute_etf()\n",
    "# Image(url=etf_img.getThumbURL({\n",
    "#     'region': image_region, min': 0, 'max': 1.25, 'palette': ','.join(etf_palette)}))\n"
   ]
  },
  {
   "cell_type": "code",
   "execution_count": null,
   "metadata": {},
   "outputs": [],
   "source": []
  }
 ],
 "metadata": {
  "kernelspec": {
   "display_name": "Python 2",
   "language": "python",
   "name": "python2"
  },
  "language_info": {
   "codemirror_mode": {
    "name": "ipython",
    "version": 2
   },
   "file_extension": ".py",
   "mimetype": "text/x-python",
   "name": "python",
   "nbconvert_exporter": "python",
   "pygments_lexer": "ipython2",
   "version": "2.7.14"
  }
 },
 "nbformat": 4,
 "nbformat_minor": 2
}
