{
 "cells": [
  {
   "cell_type": "markdown",
   "metadata": {},
   "source": [
    "# NDVI ET Single Image Example"
   ]
  },
  {
   "cell_type": "code",
   "execution_count": 1,
   "metadata": {},
   "outputs": [],
   "source": [
    "import ee\n",
    "from IPython.display import Image\n",
    "from importlib import reload  # Python 3 only\n",
    "# from imp import reload      # Python 2/3 via futures modules\n",
    "\n",
    "from ndvi_et import ndvi_et\n",
    "ndvi_et = reload(ndvi_et)\n",
    "\n",
    "ee.Initialize()\n",
    "\n",
    "ndvi_palette = ['#EFE7E1', '#003300']\n",
    "et_palette = [\n",
    "  'DEC29B', 'E6CDA1', 'EDD9A6', 'F5E4A9', 'FFF4AD', 'C3E683', '6BCC5C', \n",
    "  '3BB369', '20998F', '1C8691', '16678A', '114982', '0B2C7A']"
   ]
  },
  {
   "cell_type": "markdown",
   "metadata": {},
   "source": [
    "# Landsat 8"
   ]
  },
  {
   "cell_type": "code",
   "execution_count": 2,
   "metadata": {},
   "outputs": [
    {
     "data": {
      "text/html": [
       "<img src=\"https://earthengine.googleapis.com/api/thumb?thumbid=47f0c9ec925edb199e9f1f3b08636648&token=10e56a0e5f39f3e2efcdf1ee86dfce1b\"/>"
      ],
      "text/plain": [
       "<IPython.core.display.Image object>"
      ]
     },
     "execution_count": 2,
     "metadata": {},
     "output_type": "execute_result"
    }
   ],
   "source": [
    "landsat_img = ee.Image('LANDSAT/LC08/C01/T1_RT_TOA/LC08_043033_20170709')\n",
    "Image(url=landsat_img.select([3, 2, 1]).getThumbURL({'min': 0.0, 'max': 0.3}))\n",
    "# Image(url=landsat_img.normalizedDifference(['B4', 'B3']).getThumbURL(\n",
    "#     {'min': -0.1, 'max': 0.9, 'palette': ','.join(ndvi_palette)}))"
   ]
  },
  {
   "cell_type": "code",
   "execution_count": 3,
   "metadata": {},
   "outputs": [
    {
     "data": {
      "text/html": [
       "<img src=\"https://earthengine.googleapis.com/api/thumb?thumbid=b169ec2bbb157d856179586fe3f81a54&token=290d770c9279d7c7e095ce9b4e585696\"/>"
      ],
      "text/plain": [
       "<IPython.core.display.Image object>"
      ]
     },
     "execution_count": 3,
     "metadata": {},
     "output_type": "execute_result"
    }
   ],
   "source": [
    "# Compute ETf for a single image\n",
    "Image(url=ndvi_et.NDVI_ET.LandsatTOA(landsat_img).etf().getThumbURL(\n",
    "    {'min': -0.1, 'max': 0.9, 'palette': ','.join(et_palette)}))"
   ]
  },
  {
   "cell_type": "markdown",
   "metadata": {},
   "source": [
    "# Sentinel 2 TOA"
   ]
  },
  {
   "cell_type": "code",
   "execution_count": 6,
   "metadata": {},
   "outputs": [
    {
     "data": {
      "text/html": [
       "<img src=\"https://earthengine.googleapis.com/api/thumb?thumbid=09d06a914fdacc3953bc91eb2e47dd15&token=a859b1527d02ed1e74971ca9c9680ac3\"/>"
      ],
      "text/plain": [
       "<IPython.core.display.Image object>"
      ]
     },
     "execution_count": 6,
     "metadata": {},
     "output_type": "execute_result"
    }
   ],
   "source": [
    "sentinel_img = ee.Image('COPERNICUS/S2/20170704T184919_20170704T185934_T10SGJ')\n",
    "# sentinel_coll = ee.ImageCollection('COPERNICUS/S2') \\\n",
    "#     .filterDate('2017-07-01', '2017-07-05') \\\n",
    "#     .filterBounds(ee.Geometry.Point(-120, 39))\n",
    "# sentinel_img = ee.Image(sentinel_coll.first())\n",
    "Image(url=sentinel_img.select([3, 2, 1]).getThumbURL({'min': 0, 'max': 3000}))"
   ]
  },
  {
   "cell_type": "code",
   "execution_count": 5,
   "metadata": {},
   "outputs": [
    {
     "data": {
      "text/html": [
       "<img src=\"https://earthengine.googleapis.com/api/thumb?thumbid=3f9d2ef48ea08006e1406d518c89d4d8&token=c4aa69fe750ba6a3acd42a4a2046f28c\"/>"
      ],
      "text/plain": [
       "<IPython.core.display.Image object>"
      ]
     },
     "execution_count": 5,
     "metadata": {},
     "output_type": "execute_result"
    }
   ],
   "source": [
    "# Compute ETf for a single image\n",
    "Image(url=ndvi_et.NDVI_ET.Sentinel2TOA(sentinel_img).etf().getThumbURL(\n",
    "    {'min': -0.1, 'max': 0.9, 'palette': ','.join(et_palette)}))"
   ]
  },
  {
   "cell_type": "code",
   "execution_count": null,
   "metadata": {},
   "outputs": [],
   "source": []
  }
 ],
 "metadata": {
  "kernelspec": {
   "display_name": "Python 3",
   "language": "python",
   "name": "python3"
  },
  "language_info": {
   "codemirror_mode": {
    "name": "ipython",
    "version": 3
   },
   "file_extension": ".py",
   "mimetype": "text/x-python",
   "name": "python",
   "nbconvert_exporter": "python",
   "pygments_lexer": "ipython3",
   "version": "3.6.3"
  }
 },
 "nbformat": 4,
 "nbformat_minor": 2
}
