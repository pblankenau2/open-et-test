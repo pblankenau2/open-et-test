{
 "cells": [
  {
   "cell_type": "markdown",
   "metadata": {},
   "source": [
    "# NDVI ET Single Image Example"
   ]
  },
  {
   "cell_type": "code",
   "execution_count": 1,
   "metadata": {},
   "outputs": [],
   "source": [
    "import ee\n",
    "from IPython.display import Image\n",
    "from importlib import reload  # Python 3 only\n",
    "# from imp import reload      # Python 2/3 via futures modules\n",
    "\n",
    "from ndvi_et import ndvi_et\n",
    "ndvi_et = reload(ndvi_et)\n",
    "\n",
    "ee.Initialize()\n",
    "\n",
    "ndvi_palette = ['#EFE7E1', '#003300']\n",
    "et_palette = [\n",
    "  'DEC29B', 'E6CDA1', 'EDD9A6', 'F5E4A9', 'FFF4AD', 'C3E683', '6BCC5C', \n",
    "  '3BB369', '20998F', '1C8691', '16678A', '114982', '0B2C7A']"
   ]
  },
  {
   "cell_type": "markdown",
   "metadata": {},
   "source": [
    "# Input Images"
   ]
  },
  {
   "cell_type": "code",
   "execution_count": 2,
   "metadata": {},
   "outputs": [
    {
     "data": {
      "text/html": [
       "<img src=\"https://earthengine.googleapis.com/api/thumb?thumbid=fe9b7b0ad8e2375ef66bbc7e74644022&token=7fe10792fb25502bcedb83467d54dac9\"/>"
      ],
      "text/plain": [
       "<IPython.core.display.Image object>"
      ]
     },
     "execution_count": 2,
     "metadata": {},
     "output_type": "execute_result"
    }
   ],
   "source": [
    "landsat_img = ee.Image('LANDSAT/LC08/C01/T1_RT_TOA/LC08_043033_20150805')\n",
    "# landsat_img = ee.Image('LANDSAT/LC08/C01/T1_RT_TOA/LC08_043033_20170709')\n",
    "# landsat_coll = ee.ImageCollection('LANDSAT/LC08/C01/T1_RT_TOA') \\\n",
    "#     .filterDate('2015-08-01', '2015-08-31') \\\n",
    "#     .filterBounds(ee.Geometry.Point(-120, 39))\n",
    "# landsat_img = ee.Image(landsat_coll.first())\n",
    "# print(landsat_img.getInfo()['properties']['system:index'])\n",
    "Image(url=landsat_img.select([3, 2, 1]).getThumbURL({'min': 0.0, 'max': 0.3}))"
   ]
  },
  {
   "cell_type": "code",
   "execution_count": 3,
   "metadata": {},
   "outputs": [
    {
     "data": {
      "text/html": [
       "<img src=\"https://earthengine.googleapis.com/api/thumb?thumbid=09d06a914fdacc3953bc91eb2e47dd15&token=c7c9621856e67bd12a33deb7d1bbd8ae\"/>"
      ],
      "text/plain": [
       "<IPython.core.display.Image object>"
      ]
     },
     "execution_count": 3,
     "metadata": {},
     "output_type": "execute_result"
    }
   ],
   "source": [
    "sentinel_img = ee.Image('COPERNICUS/S2/20170704T184919_20170704T185934_T10SGJ')\n",
    "# sentinel_coll = ee.ImageCollection('COPERNICUS/S2') \\\n",
    "#     .filterDate('2017-07-01', '2017-07-05') \\\n",
    "#     .filterBounds(ee.Geometry.Point(-120, 39))\n",
    "# sentinel_img = ee.Image(sentinel_coll.first())\n",
    "# print(sentinel_img.getInfo()['properties']['system:index'])\n",
    "Image(url=sentinel_img.select([3, 2, 1]).getThumbURL({'min': 0.0, 'max': 3000}))"
   ]
  },
  {
   "cell_type": "markdown",
   "metadata": {},
   "source": [
    "# Build from component images"
   ]
  },
  {
   "cell_type": "code",
   "execution_count": 4,
   "metadata": {},
   "outputs": [
    {
     "data": {
      "text/html": [
       "<img src=\"https://earthengine.googleapis.com/api/thumb?thumbid=83719829df54b38c4e302ef419f05bd9&token=379fb06b12b9754c313dc7002c19cb8c\"/>"
      ],
      "text/plain": [
       "<IPython.core.display.Image object>"
      ]
     },
     "execution_count": 4,
     "metadata": {},
     "output_type": "execute_result"
    }
   ],
   "source": [
    "ndvi_et_obj = ndvi_et.NDVI_ET(ee.Image([\n",
    "    landsat_img.normalizedDifference(['B5', 'B4']).rename(['ndvi'])]))\n",
    "Image(url=ndvi_et_obj.etf() \\\n",
    "    .getThumbURL({'min': 0.0, 'max': 1.0, 'palette': ','.join(et_palette)}))"
   ]
  },
  {
   "cell_type": "markdown",
   "metadata": {},
   "source": [
    "# Build from Landsat 8 TOA image"
   ]
  },
  {
   "cell_type": "code",
   "execution_count": 5,
   "metadata": {},
   "outputs": [],
   "source": [
    "# Build the NDVI ET object\n",
    "ndvi_et_obj = ndvi_et.NDVI_ET.fromLandsatTOA(landsat_img)"
   ]
  },
  {
   "cell_type": "code",
   "execution_count": 6,
   "metadata": {},
   "outputs": [
    {
     "data": {
      "text/html": [
       "<img src=\"https://earthengine.googleapis.com/api/thumb?thumbid=8131abef2e6e1f2210119c531e679b11&token=032380f143671c8d94e209f081430490\"/>"
      ],
      "text/plain": [
       "<IPython.core.display.Image object>"
      ]
     },
     "execution_count": 6,
     "metadata": {},
     "output_type": "execute_result"
    }
   ],
   "source": [
    "# Get the input NDVI property from the object\n",
    "Image(url=ndvi_et_obj.ndvi.getThumbURL(\n",
    "    {'min': -0.1, 'max': 0.9, 'palette': ','.join(ndvi_palette)}))"
   ]
  },
  {
   "cell_type": "code",
   "execution_count": 7,
   "metadata": {},
   "outputs": [
    {
     "data": {
      "text/html": [
       "<img src=\"https://earthengine.googleapis.com/api/thumb?thumbid=b5ef480a54a9cbf69bffdde80c4e3f83&token=7be78b2ea6d29f064d31457d7eac7ad7\"/>"
      ],
      "text/plain": [
       "<IPython.core.display.Image object>"
      ]
     },
     "execution_count": 7,
     "metadata": {},
     "output_type": "execute_result"
    }
   ],
   "source": [
    "# Compute ETf for a single image\n",
    "Image(url=ndvi_et_obj.etf().getThumbURL(\n",
    "    {'min': 0.0, 'max': 1.2, 'palette': ','.join(et_palette)}))"
   ]
  },
  {
   "cell_type": "markdown",
   "metadata": {},
   "source": [
    "# Build from Sentinel 2 TOA image"
   ]
  },
  {
   "cell_type": "code",
   "execution_count": 8,
   "metadata": {},
   "outputs": [
    {
     "data": {
      "text/html": [
       "<img src=\"https://earthengine.googleapis.com/api/thumb?thumbid=2c07066006945b26d05f2cb3ed28a6e3&token=0f889134b2bd6a4614402cce0c6cd6d2\"/>"
      ],
      "text/plain": [
       "<IPython.core.display.Image object>"
      ]
     },
     "execution_count": 8,
     "metadata": {},
     "output_type": "execute_result"
    }
   ],
   "source": [
    "# Compute ETf for a single image\n",
    "Image(url=ndvi_et.NDVI_ET.fromSentinel2TOA(sentinel_img).etf() \\\n",
    "    .getThumbURL({'min': 0.0, 'max': 1.2, 'palette': ','.join(et_palette)}))"
   ]
  },
  {
   "cell_type": "markdown",
   "metadata": {},
   "source": [
    "# Build with custom parameters"
   ]
  },
  {
   "cell_type": "code",
   "execution_count": 9,
   "metadata": {},
   "outputs": [
    {
     "data": {
      "text/html": [
       "<img src=\"https://earthengine.googleapis.com/api/thumb?thumbid=7e4e487f51229bad4ca80d161b85ec3d&token=64185987cf512be9b9a2b404e2341f64\"/>"
      ],
      "text/plain": [
       "<IPython.core.display.Image object>"
      ]
     },
     "execution_count": 9,
     "metadata": {},
     "output_type": "execute_result"
    }
   ],
   "source": [
    "ndvi_et_obj = ndvi_et.NDVI_ET.fromLandsatTOA(landsat_img, m=2.0)\n",
    "Image(url=ndvi_et_obj.etf().getThumbURL(\n",
    "    {'min': 0.0, 'max': 1.2, 'palette': ','.join(et_palette)}))"
   ]
  },
  {
   "cell_type": "code",
   "execution_count": null,
   "metadata": {},
   "outputs": [],
   "source": []
  }
 ],
 "metadata": {
  "kernelspec": {
   "display_name": "Python 3",
   "language": "python",
   "name": "python3"
  },
  "language_info": {
   "codemirror_mode": {
    "name": "ipython",
    "version": 3
   },
   "file_extension": ".py",
   "mimetype": "text/x-python",
   "name": "python",
   "nbconvert_exporter": "python",
   "pygments_lexer": "ipython3",
   "version": "3.6.3"
  }
 },
 "nbformat": 4,
 "nbformat_minor": 2
}
