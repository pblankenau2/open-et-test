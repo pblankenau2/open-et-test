{
 "cells": [
  {
   "cell_type": "markdown",
   "metadata": {},
   "source": [
    "# DisALEXI Collection Example"
   ]
  },
  {
   "cell_type": "code",
   "execution_count": 1,
   "metadata": {},
   "outputs": [],
   "source": [
    "import ee\n",
    "from IPython.display import Image\n",
    "\n",
    "from disalexi import disalexi\n",
    "from disalexi import landsat\n",
    "disalexi = reload(disalexi)\n",
    "landsat = reload(landsat)\n",
    "\n",
    "ee.Initialize()\n",
    "\n",
    "ndvi_palette = ['#EFE7E1', '#003300']\n",
    "# ta_palette = ['#ff0000', '#ffff00', '#00ffff', '#0000ff']\n",
    "et_palette = [\n",
    "  'DEC29B', 'E6CDA1', 'EDD9A6', 'F5E4A9', 'FFF4AD', 'C3E683', '6BCC5C', \n",
    "  '3BB369', '20998F', '1C8691', '16678A', '114982', '0B2C7A']"
   ]
  },
  {
   "cell_type": "markdown",
   "metadata": {},
   "source": [
    "#### Define the Landsat TOA collection"
   ]
  },
  {
   "cell_type": "code",
   "execution_count": 2,
   "metadata": {},
   "outputs": [],
   "source": [
    "# scene_id = 'LC08_038038_20150717'\n",
    "landsat_coll = ee.ImageCollection('LANDSAT/LC08/C01/T1_RT_TOA') \\\n",
    "    .filterDate('2015-06-01', '2015-06-10') \\\n",
    "    .filterMetadata('WRS_PATH', 'equals', 43) \\\n",
    "    .filterMetadata('WRS_ROW', 'equals', 33)"
   ]
  },
  {
   "cell_type": "markdown",
   "metadata": {},
   "source": [
    "#### Define a study area (for generating thumbnail)"
   ]
  },
  {
   "cell_type": "code",
   "execution_count": 8,
   "metadata": {},
   "outputs": [],
   "source": [
    "test_image = ee.Image(landsat_coll.first())\n",
    "image_region = test_image.geometry().bounds(1, 'EPSG:4326').coordinates().getInfo()\n",
    "image_crs = test_image.select(['B2']).projection().crs().getInfo()\n",
    "image_transform = test_image.select(['B2']).projection().getInfo()['transform']\n",
    "coarse_transform = image_transform[:]\n",
    "coarse_transform[0] = 240\n",
    "coarse_transform[4] = 240"
   ]
  },
  {
   "cell_type": "markdown",
   "metadata": {},
   "source": [
    "#### Compute ET collection"
   ]
  },
  {
   "cell_type": "code",
   "execution_count": 4,
   "metadata": {},
   "outputs": [],
   "source": [
    "def apply_et(landsat_img):\n",
    "    input_img = ee.Image(landsat.Landsat(landsat_img).prep())\n",
    "    \n",
    "    disalexi_obj = disalexi.DisALEXI(\n",
    "        input_img, \n",
    "        iterations=10,\n",
    "        elevation=ee.Image('USGS/SRTMGL1_003').rename(['elevation']),\n",
    "        landcover=ee.Image(\n",
    "            ee.ImageCollection('users/cgmorton/GlobeLand30_2010').mosaic()) \\\n",
    "                .divide(10).floor().multiply(10).rename(['landcover']),\n",
    "        lc_type='GLOBELAND30')\n",
    "    \n",
    "    ta_img = disalexi_obj.compute_ta()\n",
    "    et_img = disalexi_obj.compute_et(ta_img)\n",
    "    \n",
    "    return ee.Image(et_img).copyProperties(\n",
    "        landsat_img, ['system:time_start', 'system:index'])\n",
    "\n",
    "et_coll = ee.ImageCollection(landsat_coll.map(apply_et))"
   ]
  },
  {
   "cell_type": "code",
   "execution_count": 9,
   "metadata": {},
   "outputs": [
    {
     "name": "stdout",
     "output_type": "stream",
     "text": [
      "https://earthengine.googleapis.com/api/thumb?thumbid=43d004693c0665d3b0da1ce494b74cbb&token=bba039fbbcaa9983a34dee721714ed57\n"
     ]
    },
    {
     "data": {
      "text/html": [
       "<img src=\"https://earthengine.googleapis.com/api/thumb?thumbid=43d004693c0665d3b0da1ce494b74cbb&token=9f979f82d2ae99997b87f8fc2979e46d\"/>"
      ],
      "text/plain": [
       "<IPython.core.display.Image object>"
      ]
     },
     "execution_count": 9,
     "metadata": {},
     "output_type": "execute_result"
    }
   ],
   "source": [
    "# Compute the mean ET for the collection\n",
    "# Project for display purposes\n",
    "et_img = ee.Image(et_coll.mean()) \\\n",
    "    .reproject(crs=image_crs, crsTransform=coarse_transform)\n",
    "Image(url=et_img.getThumbURL({\n",
    "    'min': 0, 'max': 1.25, 'region': image_region, 'palette': ','.join(et_palette)}))"
   ]
  },
  {
   "cell_type": "code",
   "execution_count": null,
   "metadata": {},
   "outputs": [],
   "source": []
  }
 ],
 "metadata": {
  "kernelspec": {
   "display_name": "Python 2",
   "language": "python",
   "name": "python2"
  },
  "language_info": {
   "codemirror_mode": {
    "name": "ipython",
    "version": 2
   },
   "file_extension": ".py",
   "mimetype": "text/x-python",
   "name": "python",
   "nbconvert_exporter": "python",
   "pygments_lexer": "ipython2",
   "version": "2.7.14"
  }
 },
 "nbformat": 4,
 "nbformat_minor": 2
}
