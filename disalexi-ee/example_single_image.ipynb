{
 "cells": [
  {
   "cell_type": "markdown",
   "metadata": {},
   "source": [
    "# DisALEXI Single Image Example"
   ]
  },
  {
   "cell_type": "code",
   "execution_count": 1,
   "metadata": {},
   "outputs": [],
   "source": [
    "import ee\n",
    "from IPython.display import Image\n",
    "from importlib import reload  # Python 3 only\n",
    "# from imp import reload      # Python 2/3 via futures modules\n",
    "\n",
    "from disalexi import disalexi\n",
    "disalexi = reload(disalexi)\n",
    "\n",
    "ee.Initialize()\n",
    "\n",
    "ndvi_palette = ['#EFE7E1', '#003300']\n",
    "ta_palette = ['#ff0000', '#ffff00', '#00ffff', '#0000ff']\n",
    "et_palette = [\n",
    "  'DEC29B', 'E6CDA1', 'EDD9A6', 'F5E4A9', 'FFF4AD', 'C3E683', '6BCC5C', \n",
    "  '3BB369', '20998F', '1C8691', '16678A', '114982', '0B2C7A']"
   ]
  },
  {
   "cell_type": "markdown",
   "metadata": {},
   "source": [
    "# Input Landsat 8 Image"
   ]
  },
  {
   "cell_type": "code",
   "execution_count": 2,
   "metadata": {},
   "outputs": [
    {
     "data": {
      "text/html": [
       "<img src=\"https://earthengine.googleapis.com/api/thumb?thumbid=fe9b7b0ad8e2375ef66bbc7e74644022&token=4897f444b73b0193f2b936d2e7f87950\"/>"
      ],
      "text/plain": [
       "<IPython.core.display.Image object>"
      ]
     },
     "execution_count": 2,
     "metadata": {},
     "output_type": "execute_result"
    }
   ],
   "source": [
    "# Note, DisALEXI image must be in 2015 due to ancillary data availability \n",
    "landsat_img = ee.Image('LANDSAT/LC08/C01/T1_RT_TOA/LC08_043033_20150805')\n",
    "Image(url=landsat_img.select([3, 2, 1]).getThumbURL({'min': 0.0, 'max': 0.3}))"
   ]
  },
  {
   "cell_type": "code",
   "execution_count": 3,
   "metadata": {},
   "outputs": [],
   "source": [
    "#\n",
    "image_region = landsat_img.geometry().bounds(1, 'EPSG:4326').coordinates().getInfo()\n",
    "image_crs = landsat_img.select(['B2']).projection().crs().getInfo()\n",
    "image_transform = landsat_img.select(['B2']).projection().getInfo()['transform']\n",
    "coarse_transform = image_transform[:]\n",
    "coarse_transform[0] = 240\n",
    "coarse_transform[4] = 240"
   ]
  },
  {
   "cell_type": "code",
   "execution_count": 4,
   "metadata": {},
   "outputs": [],
   "source": [
    "# Build the DisALEXI object\n",
    "disalexi_obj = disalexi.DisALEXI.fromLandsatTOA(landsat_img)"
   ]
  },
  {
   "cell_type": "markdown",
   "metadata": {},
   "source": [
    "## Compute ALEXI scale air temperature (aggregated LST for now)"
   ]
  },
  {
   "cell_type": "code",
   "execution_count": 5,
   "metadata": {},
   "outputs": [
    {
     "data": {
      "text/html": [
       "<img src=\"https://earthengine.googleapis.com/api/thumb?thumbid=663114b9ca845d0e1efbd9bc91ff0421&token=c09d145b0cf6f7a5cf39098d80ee3f6c\"/>"
      ],
      "text/plain": [
       "<IPython.core.display.Image object>"
      ]
     },
     "execution_count": 5,
     "metadata": {},
     "output_type": "execute_result"
    }
   ],
   "source": [
    "# Projecting the Ta image to the Landsat image for display purposes\n",
    "ta_img = disalexi_obj.ta() \\\n",
    "    .reproject(crs=image_crs, crsTransform=coarse_transform)\n",
    "Image(url=ta_img.getThumbURL({\n",
    "    'min': 280, 'max': 320, 'region': image_region, 'palette': ','.join(ta_palette)}))"
   ]
  },
  {
   "cell_type": "markdown",
   "metadata": {},
   "source": [
    "## Compute Landsat scale ET (1.25 * NDVI for now)"
   ]
  },
  {
   "cell_type": "code",
   "execution_count": 6,
   "metadata": {},
   "outputs": [
    {
     "data": {
      "text/html": [
       "<img src=\"https://earthengine.googleapis.com/api/thumb?thumbid=c170d02796da5454857d4a2ff4bde478&token=f2350420ccebead8dd4c7ca4249bf7b3\"/>"
      ],
      "text/plain": [
       "<IPython.core.display.Image object>"
      ]
     },
     "execution_count": 6,
     "metadata": {},
     "output_type": "execute_result"
    }
   ],
   "source": [
    "# Skip Ta smoothing for now\n",
    "# Why is Ta an input to the function?\n",
    "et_img = disalexi_obj.et(ta_img)\n",
    "Image(url=et_img.getThumbURL({\n",
    "    'min': 0, 'max': 1.2, 'palette': ','.join(et_palette)}))"
   ]
  },
  {
   "cell_type": "code",
   "execution_count": null,
   "metadata": {},
   "outputs": [],
   "source": []
  }
 ],
 "metadata": {
  "kernelspec": {
   "display_name": "Python 3",
   "language": "python",
   "name": "python3"
  },
  "language_info": {
   "codemirror_mode": {
    "name": "ipython",
    "version": 3
   },
   "file_extension": ".py",
   "mimetype": "text/x-python",
   "name": "python",
   "nbconvert_exporter": "python",
   "pygments_lexer": "ipython3",
   "version": "3.6.3"
  }
 },
 "nbformat": 4,
 "nbformat_minor": 2
}
