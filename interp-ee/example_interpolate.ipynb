{
 "cells": [
  {
   "cell_type": "code",
   "execution_count": 1,
   "metadata": {},
   "outputs": [],
   "source": [
    "import datetime as dt\n",
    "import inspect\n",
    "import os\n",
    "import sys\n",
    "\n",
    "import ee\n",
    "from IPython.display import Image\n",
    "from importlib import reload  # Python 3 only\n",
    "# from imp import reload      # Python 2/3 via futures modules\n",
    "\n",
    "from interp import interpolate\n",
    "# Assume ET models will be installed via pip or available in EE\n",
    "# For now, add parent folder to path in order to access models in other folders\n",
    "# This seems super awful, is there a better way to do this in the short term?\n",
    "root_path = os.path.dirname(os.path.dirname(os.path.abspath(inspect.getfile(inspect.currentframe()))))\n",
    "if os.path.join(root_path, 'ndvi-et-ee') not in sys.path:\n",
    "    sys.path.insert(0, os.path.join(root_path, 'ndvi-et-ee'))\n",
    "from ndvi_et import ndvi_et\n",
    "\n",
    "interpolate = reload(interpolate)\n",
    "ndvi_et = reload(ndvi_et)\n",
    "\n",
    "ee.Initialize()\n",
    "\n",
    "et_palette = [\n",
    "  'DEC29B', 'E6CDA1', 'EDD9A6', 'F5E4A9', 'FFF4AD', 'C3E683', '6BCC5C', \n",
    "  '3BB369', '20998F', '1C8691', '16678A', '114982', '0B2C7A']"
   ]
  },
  {
   "cell_type": "markdown",
   "metadata": {},
   "source": [
    "## Input parameters"
   ]
  },
  {
   "cell_type": "code",
   "execution_count": 2,
   "metadata": {},
   "outputs": [],
   "source": [
    "# Date range you want to aggregate ET over\n",
    "start_date = '2015-08-01'\n",
    "end_date = '2015-08-31'\n",
    "\n",
    "# Only keep images with an average cloud cover less than\n",
    "cloud_cover = 70\n",
    "\n",
    "# Number of extra days (at start and end) to include in interpolation\n",
    "interp_days = 32\n",
    "# Interpolation method - currently only LINEAR is supported\n",
    "interp_type = 'LINEAR'\n",
    "\n",
    "study_area = ee.Geometry.Rectangle(-119.25, 38.80, -119.05, 39.15)"
   ]
  },
  {
   "cell_type": "code",
   "execution_count": 3,
   "metadata": {},
   "outputs": [],
   "source": [
    "# Studay area properties\n",
    "study_region = study_area.bounds(1, 'EPSG:4326').coordinates().getInfo()\n",
    "study_crs = 'EPSG:32611'\n",
    "# study_crs = landsat_img.select(['B2']).projection().crs().getInfo()\n",
    "# study_transform = landsat_img.select(['B2']).projection().getInfo()['transform']"
   ]
  },
  {
   "cell_type": "code",
   "execution_count": 4,
   "metadata": {},
   "outputs": [
    {
     "name": "stdout",
     "output_type": "stream",
     "text": [
      "2015-06-30\n",
      "2015-10-02\n"
     ]
    }
   ],
   "source": [
    "# Add extra Landsat images at start and end to interpolate between\n",
    "interp_start_date = (dt.datetime.strptime(start_date, '%Y-%m-%d') - dt.timedelta(days=interp_days)).strftime('%Y-%m-%d')\n",
    "interp_end_date = (dt.datetime.strptime(end_date, '%Y-%m-%d') + dt.timedelta(days=interp_days)).strftime('%Y-%m-%d')\n",
    "print(interp_start_date)\n",
    "print(interp_end_date)"
   ]
  },
  {
   "cell_type": "markdown",
   "metadata": {},
   "source": [
    "## Build the Landsat TOA Collection"
   ]
  },
  {
   "cell_type": "code",
   "execution_count": 5,
   "metadata": {},
   "outputs": [
    {
     "name": "stdout",
     "output_type": "stream",
     "text": [
      "{'1_2_LC08_042033_20150713': 1, '1_2_LC08_042033_20150729': 1, '1_2_LC08_042033_20150814': 1, '1_2_LC08_042033_20150830': 1, '1_2_LC08_042033_20150915': 1, '1_2_LC08_043033_20150720': 1, '1_2_LC08_043033_20150805': 1, '1_2_LC08_043033_20150821': 1, '1_2_LC08_043033_20150906': 1, '1_2_LC08_043033_20150922': 1, '2_LE07_042033_20150705': 1, '2_LE07_042033_20150721': 1, '2_LE07_042033_20150822': 1, '2_LE07_042033_20150907': 1, '2_LE07_042033_20150923': 1, '2_LE07_043033_20150728': 1, '2_LE07_043033_20150813': 1, '2_LE07_043033_20150829': 1, '2_LE07_043033_20150914': 1}\n"
     ]
    }
   ],
   "source": [
    "# Build the input Landsat TOA collection\n",
    "# landsat_coll = ee.ImageCollection('LANDSAT/LC08/C01/T1_RT_TOA') \\\n",
    "#     .filterDate(interp_start_date, interp_end_date) \\\n",
    "#     .filterBounds(study_area) \\\n",
    "#     .filterMetadata('CLOUD_COVER_LAND', 'less_than', cloud_cover) \\\n",
    "#     .filterMetadata('DATA_TYPE', 'equals', 'L1TP')\n",
    "\n",
    "# Code for setting up a merged Landsat input collection\n",
    "landsat_coll = ee.ImageCollection([])\n",
    "landsat_coll = ee.ImageCollection(landsat_coll.merge(\n",
    "    ee.ImageCollection('LANDSAT/LC08/C01/T1_RT_TOA') \\\n",
    "        .filterDate(interp_start_date, interp_end_date) \\\n",
    "        .filterBounds(study_area) \\\n",
    "        .filterMetadata('CLOUD_COVER_LAND', 'less_than', cloud_cover) \\\n",
    "        .filterMetadata('DATA_TYPE', 'equals', 'L1TP')))\n",
    "landsat_coll = ee.ImageCollection(landsat_coll.merge(\n",
    "    ee.ImageCollection('LANDSAT/LE07/C01/T1_RT_TOA') \\\n",
    "        .filterDate(interp_start_date, interp_end_date) \\\n",
    "        .filterBounds(study_area) \\\n",
    "        .filterMetadata('CLOUD_COVER_LAND', 'less_than', cloud_cover) \\\n",
    "        .filterMetadata('DATA_TYPE', 'equals', 'L1TP')))\n",
    "# landsat_coll = ee.ImageCollection(landsat_coll.merge(\n",
    "#     ee.ImageCollection('LANDSAT/LT05/C01/T1_TOA') \\\n",
    "#         .filterDate(interp_start_date, interp_end_date) \\\n",
    "#         .filterBounds(study_area) \\\n",
    "#         .filterMetadata('CLOUD_COVER_LAND', 'less_than', cloud_cover) \\\n",
    "#         .filterMetadata('DATA_TYPE', 'equals', 'L1TP')))\n",
    "print(landsat_coll.aggregate_histogram('system:index').getInfo())"
   ]
  },
  {
   "cell_type": "code",
   "execution_count": 6,
   "metadata": {},
   "outputs": [
    {
     "data": {
      "text/html": [
       "<img src=\"https://earthengine.googleapis.com/api/thumb?thumbid=aa38fe0bff56e9cc4879cbc7bc9cc8bc&token=5f6f54e12d503a438478bebf0e584137\"/>"
      ],
      "text/plain": [
       "<IPython.core.display.Image object>"
      ]
     },
     "execution_count": 6,
     "metadata": {},
     "output_type": "execute_result"
    }
   ],
   "source": [
    "Image(url=ee.Image(landsat_coll.first()).select([3, 2, 1]) \\\n",
    "    .getThumbURL({'min': 0.0, 'max': 0.3, 'region': study_region}))"
   ]
  },
  {
   "cell_type": "markdown",
   "metadata": {},
   "source": [
    "## Apply NDVI ET Model"
   ]
  },
  {
   "cell_type": "code",
   "execution_count": 7,
   "metadata": {},
   "outputs": [],
   "source": [
    "# Compute ETf for each Landsat scene\n",
    "def compute_et_fraction(image):\n",
    "    s = ndvi_et.NDVI_ET.fromLandsatTOA(\n",
    "        toa_image=ee.Image(image), m=1.25, b=0)\n",
    "    return ee.Image(s.etf())\n",
    "scene_et_fraction_coll = ee.ImageCollection(\n",
    "    landsat_coll.map(compute_et_fraction))\n",
    "\n",
    "# Daily reference ET collection\n",
    "daily_et_reference_coll = ee.ImageCollection('IDAHO_EPSCOR/GRIDMET') \\\n",
    "    .filterDate(start_date, end_date) \\\n",
    "    .select(['etr'], ['et_reference'])\n",
    "\n",
    "# Compute composite/mosaic images for each image date\n",
    "# This will combine Landsat images from the same path into a single image\n",
    "daily_et_fraction_coll = ee.ImageCollection(interpolate.aggregate_daily(\n",
    "    image_coll=scene_et_fraction_coll,\n",
    "    start_date=interp_start_date,\n",
    "    end_date=interp_end_date))\n",
    "\n",
    "# Interpolate daily ETf, multiply by daily ETr, and sum to ET\n",
    "daily_et_actual_coll = ee.ImageCollection(interpolate.interp_et_coll(\n",
    "    et_reference_coll=daily_et_reference_coll,\n",
    "    et_fraction_coll=daily_et_fraction_coll,\n",
    "    interp_days=interp_days,\n",
    "    interp_type=interp_type))"
   ]
  },
  {
   "cell_type": "markdown",
   "metadata": {},
   "source": [
    "## Compute total ET over the time period"
   ]
  },
  {
   "cell_type": "code",
   "execution_count": 8,
   "metadata": {
    "scrolled": true
   },
   "outputs": [
    {
     "data": {
      "text/html": [
       "<img src=\"https://earthengine.googleapis.com/api/thumb?thumbid=f0dd69d23616638e0e106a0378fff500&token=9c52561d94bab26c9408ac64b975cde2\"/>"
      ],
      "text/plain": [
       "<IPython.core.display.Image object>"
      ]
     },
     "execution_count": 8,
     "metadata": {},
     "output_type": "execute_result"
    }
   ],
   "source": [
    "Image(url=ee.Image(daily_et_actual_coll.sum()) \\\n",
    "    .reproject(crs=study_crs, scale=30) \\\n",
    "    .getThumbURL({'min': 0.0, 'max': 400, 'region': study_region, 'palette': ','.join(et_palette)}))"
   ]
  },
  {
   "cell_type": "markdown",
   "metadata": {},
   "source": [
    "## Compute total ETr over the time period"
   ]
  },
  {
   "cell_type": "code",
   "execution_count": 9,
   "metadata": {},
   "outputs": [
    {
     "data": {
      "text/html": [
       "<img src=\"https://earthengine.googleapis.com/api/thumb?thumbid=004371b90445fe8a7cad47255a809c95&token=52eb9b9603392bb7b8c6edf236cb89e9\"/>"
      ],
      "text/plain": [
       "<IPython.core.display.Image object>"
      ]
     },
     "execution_count": 9,
     "metadata": {},
     "output_type": "execute_result"
    }
   ],
   "source": [
    "Image(url=ee.Image(daily_et_reference_coll.sum()) \\\n",
    "    .reproject(crs=study_crs, scale=30) \\\n",
    "    .getThumbURL({'min': 0, 'max': 400, 'region': study_region, 'palette': ','.join(et_palette)}))"
   ]
  },
  {
   "cell_type": "markdown",
   "metadata": {},
   "source": [
    "## Compute Mean ETrF over the time period"
   ]
  },
  {
   "cell_type": "code",
   "execution_count": 10,
   "metadata": {},
   "outputs": [
    {
     "data": {
      "text/html": [
       "<img src=\"https://earthengine.googleapis.com/api/thumb?thumbid=8cb66036e71b895e653fa247a0d257b8&token=615716615f8c2a9ec25904fcb54e98b4\"/>"
      ],
      "text/plain": [
       "<IPython.core.display.Image object>"
      ]
     },
     "execution_count": 10,
     "metadata": {},
     "output_type": "execute_result"
    }
   ],
   "source": [
    "Image(url=ee.Image(daily_et_actual_coll.sum()).divide(ee.Image(daily_et_reference_coll.sum())) \\\n",
    "    .reproject(crs=study_crs, scale=30) \\\n",
    "    .getThumbURL({'min': 0.0, 'max': 1.2, 'region': study_region, 'palette': ','.join(et_palette)}))"
   ]
  },
  {
   "cell_type": "markdown",
   "metadata": {},
   "source": [
    "## Compute Image Count over the time period"
   ]
  },
  {
   "cell_type": "code",
   "execution_count": 11,
   "metadata": {},
   "outputs": [
    {
     "data": {
      "text/html": [
       "<img src=\"https://earthengine.googleapis.com/api/thumb?thumbid=42149a08bed2a74869dea536b868f73c&token=5e8ae100c79c94361a31f943ebb38251\"/>"
      ],
      "text/plain": [
       "<IPython.core.display.Image object>"
      ]
     },
     "execution_count": 11,
     "metadata": {},
     "output_type": "execute_result"
    }
   ],
   "source": [
    "# End date should be advanced 1 day\n",
    "Image(url=ee.Image(daily_et_fraction_coll.filterDate(start_date, end_date).count()) \\\n",
    "    .reproject(crs=study_crs, scale=30) \\\n",
    "    .getThumbURL({'min': 0.0, 'max': 8, 'region': study_region}))"
   ]
  },
  {
   "cell_type": "code",
   "execution_count": null,
   "metadata": {},
   "outputs": [],
   "source": []
  }
 ],
 "metadata": {
  "kernelspec": {
   "display_name": "Python 3",
   "language": "python",
   "name": "python3"
  },
  "language_info": {
   "codemirror_mode": {
    "name": "ipython",
    "version": 3
   },
   "file_extension": ".py",
   "mimetype": "text/x-python",
   "name": "python",
   "nbconvert_exporter": "python",
   "pygments_lexer": "ipython3",
   "version": "3.6.3"
  }
 },
 "nbformat": 4,
 "nbformat_minor": 2
}
